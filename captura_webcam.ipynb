{
 "cells": [
  {
   "cell_type": "markdown",
   "metadata": {},
   "source": [
    "# Vamos a capturar el vídeo de nuestra webcam con OpenCV\n",
    "https://medium.com/algoasylum/blink-detection-using-python-737a88893825\n",
    "\n",
    "https://github.com/algoasylum/BlinkDetection\n",
    "\n",
    "https://github.com/opencv/opencv"
   ]
  },
  {
   "cell_type": "code",
   "execution_count": null,
   "metadata": {},
   "outputs": [],
   "source": [
    "#Importamos los paquetes necesarios (si no los tenemos instalados, debemos hacerlo previamente)\n",
    "import cv2\n",
    "import dlib\n",
    "import math"
   ]
  },
  {
   "cell_type": "code",
   "execution_count": null,
   "metadata": {},
   "outputs": [],
   "source": [
    "#Cálculo de la ratio de parpadeo\n",
    "\n",
    "def midpoint(point1 ,point2):\n",
    "    return (point1.x + point2.x)/2,(point1.y + point2.y)/2"
   ]
  },
  {
   "cell_type": "code",
   "execution_count": null,
   "metadata": {},
   "outputs": [],
   "source": [
    "def euclidean_distance(point1 , point2):\n",
    "    return math.sqrt((point1[0] - point2[0])**2 + (point1[1] - point2[1])**2)"
   ]
  },
  {
   "cell_type": "code",
   "execution_count": null,
   "metadata": {},
   "outputs": [],
   "source": [
    "def get_blink_ratio(eye_points, facial_landmarks):\n",
    "    \n",
    "    #Carga de los puntos\n",
    "    corner_left  = (facial_landmarks.part(eye_points[0]).x, \n",
    "                    facial_landmarks.part(eye_points[0]).y)\n",
    "    corner_right = (facial_landmarks.part(eye_points[3]).x, \n",
    "                    facial_landmarks.part(eye_points[3]).y)\n",
    "    \n",
    "    center_top    = midpoint(facial_landmarks.part(eye_points[1]), \n",
    "                             facial_landmarks.part(eye_points[2]))\n",
    "    center_bottom = midpoint(facial_landmarks.part(eye_points[5]), \n",
    "                             facial_landmarks.part(eye_points[4]))\n",
    "\n",
    "    #Cálculo de la distancia\n",
    "    horizontal_length = euclidean_distance(corner_left,corner_right)\n",
    "    vertical_length = euclidean_distance(center_top,center_bottom)\n",
    "    ratio = horizontal_length / vertical_length\n",
    "    return ratio"
   ]
  },
  {
   "cell_type": "code",
   "execution_count": null,
   "metadata": {},
   "outputs": [],
   "source": [
    "BLINK_RATIO_THRESHOLD = 5.7"
   ]
  },
  {
   "cell_type": "code",
   "execution_count": null,
   "metadata": {},
   "outputs": [],
   "source": [
    "#Para empezar a capturar la imagen de la webcam\n",
    "cap = cv2.VideoCapture(0)"
   ]
  },
  {
   "cell_type": "code",
   "execution_count": null,
   "metadata": {},
   "outputs": [],
   "source": [
    "#Nombramos la ventana que recogerá la imagen de la webcam una vez ejecutemos\n",
    "cv2.namedWindow('BlinkDetector')"
   ]
  },
  {
   "cell_type": "code",
   "execution_count": null,
   "metadata": {},
   "outputs": [],
   "source": [
    "#Nombramos el detector facil de dlib\n",
    "detector = dlib.get_frontal_face_detector()"
   ]
  },
  {
   "cell_type": "code",
   "execution_count": null,
   "metadata": {},
   "outputs": [],
   "source": [
    "#Detección de los ojos con las medidas del proyecto original\n",
    "predictor = dlib.shape_predictor(\"shape_predictor_68_face_landmarks.dat\")\n",
    "left_eye_landmarks  = [36, 37, 38, 39, 40, 41]\n",
    "right_eye_landmarks = [42, 43, 44, 45, 46, 47]"
   ]
  },
  {
   "cell_type": "code",
   "execution_count": null,
   "metadata": {},
   "outputs": [],
   "source": [
    "while True:\n",
    "    #Si es correcto, capturamos\n",
    "    retval, frame = cap.read()\n",
    "\n",
    "    #Salida de la aplicación si no hay imagen \n",
    "    if not retval:\n",
    "        print(\"Can't receive frame (stream end?). Exiting ...\")\n",
    "        break \n",
    "\n",
    "    #Conversión a escala de grises\n",
    "    frame = cv2.cvtColor(frame, cv2.COLOR_BGR2GRAY)\n",
    "\n",
    "    #Detección facial\n",
    "    faces,_,_ = detector.run(image = frame, upsample_num_times = 0, \n",
    "                       adjust_threshold = 0.0)\n",
    "\n",
    "    #Detección de ojos\n",
    "    for face in faces:\n",
    "        \n",
    "        landmarks = predictor(frame, face)\n",
    "\n",
    "        #Cálculo de la ratio de parpadeo\n",
    "        left_eye_ratio  = get_blink_ratio(left_eye_landmarks, landmarks)\n",
    "        right_eye_ratio = get_blink_ratio(right_eye_landmarks, landmarks)\n",
    "        blink_ratio     = (left_eye_ratio + right_eye_ratio) / 2\n",
    "        if blink_ratio > BLINK_RATIO_THRESHOLD:\n",
    "            #Cuando detecta un parpadeo, mostrará el texto en rojo de la siguiente línea\n",
    "            cv2.putText(frame,\"BLINK\",(10,50), cv2.FONT_HERSHEY_SIMPLEX,\n",
    "                        2,(255,255,255),2,cv2.LINE_AA)\n",
    "    cv2.imshow('BlinkDetector', frame)\n",
    "    key = cv2.waitKey(1)\n",
    "    if key == 27:\n",
    "        break"
   ]
  },
  {
   "cell_type": "code",
   "execution_count": null,
   "metadata": {},
   "outputs": [],
   "source": [
    "#Para parar el proceso y cerrar la ventana\n",
    "cap.release()\n",
    "cv2.destroyAllWindows()"
   ]
  }
 ],
 "metadata": {
  "kernelspec": {
   "display_name": "Python 3",
   "language": "python",
   "name": "python3"
  },
  "language_info": {
   "codemirror_mode": {
    "name": "ipython",
    "version": 3
   },
   "file_extension": ".py",
   "mimetype": "text/x-python",
   "name": "python",
   "nbconvert_exporter": "python",
   "pygments_lexer": "ipython3",
   "version": "3.8.5"
  }
 },
 "nbformat": 4,
 "nbformat_minor": 2
}
